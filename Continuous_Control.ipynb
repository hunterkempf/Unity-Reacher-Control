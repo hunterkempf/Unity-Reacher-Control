{
 "cells": [
  {
   "cell_type": "markdown",
   "metadata": {},
   "source": [
    "# Continuous Control\n",
    "\n",
    "---\n",
    "\n",
    "You are welcome to use this coding environment to train your agent for the project.  Follow the instructions below to get started!\n",
    "\n",
    "### 1. Start the Environment\n",
    "\n",
    "Run the next code cell to install a few packages.  This line will take a few minutes to run!"
   ]
  },
  {
   "cell_type": "code",
   "execution_count": 1,
   "metadata": {},
   "outputs": [
    {
     "name": "stdout",
     "output_type": "stream",
     "text": [
      "3.6.3 |Anaconda, Inc.| (default, Dec  5 2017, 17:30:25) \n",
      "[GCC 4.2.1 Compatible Clang 4.0.1 (tags/RELEASE_401/final)]\n"
     ]
    }
   ],
   "source": [
    "import sys\n",
    "print(sys.version)"
   ]
  },
  {
   "cell_type": "raw",
   "metadata": {},
   "source": [
    "!pip -q install ./python"
   ]
  },
  {
   "cell_type": "markdown",
   "metadata": {},
   "source": [
    "The environments corresponding to both versions of the environment are already saved in the Workspace and can be accessed at the file paths provided below.  \n",
    "\n",
    "Please select one of the two options below for loading the environment."
   ]
  },
  {
   "cell_type": "code",
   "execution_count": 2,
   "metadata": {},
   "outputs": [
    {
     "name": "stderr",
     "output_type": "stream",
     "text": [
      "INFO:unityagents:\n",
      "'Academy' started successfully!\n",
      "Unity Academy name: Academy\n",
      "        Number of Brains: 1\n",
      "        Number of External Brains : 1\n",
      "        Lesson number : 0\n",
      "        Reset Parameters :\n",
      "\t\tgoal_size -> 5.0\n",
      "\t\tgoal_speed -> 1.0\n",
      "Unity brain name: ReacherBrain\n",
      "        Number of Visual Observations (per agent): 0\n",
      "        Vector Observation space type: continuous\n",
      "        Vector Observation space size (per agent): 33\n",
      "        Number of stacked Vector Observation: 1\n",
      "        Vector Action space type: continuous\n",
      "        Vector Action space size (per agent): 4\n",
      "        Vector Action descriptions: , , , \n"
     ]
    }
   ],
   "source": [
    "from unityagents import UnityEnvironment\n",
    "import numpy as np\n",
    "import torch\n",
    "from collections import deque\n",
    "import matplotlib.pyplot as plt\n",
    "%matplotlib inline\n",
    "\n",
    "# select this option to load version 1 (with a single agent) of the environment\n",
    "env = UnityEnvironment(file_name='/Users/hunterkempf/Downloads/Reacher20.app')\n",
    "\n",
    "# select this option to load version 2 (with 20 agents) of the environment\n",
    "# env = UnityEnvironment(file_name='/data/Reacher_Linux_NoVis/Reacher.x86_64')"
   ]
  },
  {
   "cell_type": "markdown",
   "metadata": {},
   "source": [
    "Environments contain **_brains_** which are responsible for deciding the actions of their associated agents. Here we check for the first brain available, and set it as the default brain we will be controlling from Python."
   ]
  },
  {
   "cell_type": "code",
   "execution_count": 3,
   "metadata": {},
   "outputs": [],
   "source": [
    "# get the default brain\n",
    "brain_name = env.brain_names[0]\n",
    "brain = env.brains[brain_name]"
   ]
  },
  {
   "cell_type": "markdown",
   "metadata": {},
   "source": [
    "### 2. Examine the State and Action Spaces\n",
    "\n",
    "Run the code cell below to print some information about the environment."
   ]
  },
  {
   "cell_type": "code",
   "execution_count": 4,
   "metadata": {},
   "outputs": [
    {
     "name": "stdout",
     "output_type": "stream",
     "text": [
      "Number of agents: 20\n",
      "Size of each action: 4\n",
      "There are 20 agents. Each observes a state with length: 33\n",
      "The state for the first agent looks like: [ 0.00000000e+00 -4.00000000e+00  0.00000000e+00  1.00000000e+00\n",
      " -0.00000000e+00 -0.00000000e+00 -4.37113883e-08  0.00000000e+00\n",
      "  0.00000000e+00  0.00000000e+00  0.00000000e+00  0.00000000e+00\n",
      "  0.00000000e+00  0.00000000e+00 -1.00000000e+01  0.00000000e+00\n",
      "  1.00000000e+00 -0.00000000e+00 -0.00000000e+00 -4.37113883e-08\n",
      "  0.00000000e+00  0.00000000e+00  0.00000000e+00  0.00000000e+00\n",
      "  0.00000000e+00  0.00000000e+00  5.75471878e+00 -1.00000000e+00\n",
      "  5.55726624e+00  0.00000000e+00  1.00000000e+00  0.00000000e+00\n",
      " -1.68164849e-01]\n"
     ]
    }
   ],
   "source": [
    "# reset the environment\n",
    "env_info = env.reset(train_mode=True)[brain_name]\n",
    "\n",
    "# number of agents\n",
    "num_agents = len(env_info.agents)\n",
    "print('Number of agents:', num_agents)\n",
    "\n",
    "# size of each action\n",
    "action_size = brain.vector_action_space_size\n",
    "print('Size of each action:', action_size)\n",
    "\n",
    "# examine the state space \n",
    "states = env_info.vector_observations\n",
    "state_size = states.shape[1]\n",
    "print('There are {} agents. Each observes a state with length: {}'.format(states.shape[0], state_size))\n",
    "print('The state for the first agent looks like:', states[0])"
   ]
  },
  {
   "cell_type": "markdown",
   "metadata": {},
   "source": [
    "### 3. Take Random Actions in the Environment\n",
    "\n",
    "In the next code cell, you will learn how to use the Python API to control the agent and receive feedback from the environment.\n",
    "\n",
    "Note that **in this coding environment, you will not be able to watch the agents while they are training**, and you should set `train_mode=True` to restart the environment."
   ]
  },
  {
   "cell_type": "code",
   "execution_count": 5,
   "metadata": {},
   "outputs": [
    {
     "name": "stdout",
     "output_type": "stream",
     "text": [
      "Total score (averaged over agents) this episode: 0.09399999789893627\n"
     ]
    }
   ],
   "source": [
    "env_info = env.reset(train_mode=True)[brain_name]      # reset the environment    \n",
    "states = env_info.vector_observations                  # get the current state (for each agent)\n",
    "scores = np.zeros(num_agents)                          # initialize the score (for each agent)\n",
    "while True:\n",
    "    actions = np.random.randn(num_agents, action_size) # select an action (for each agent)\n",
    "    actions = np.clip(actions, -1, 1)                  # all actions between -1 and 1\n",
    "    env_info = env.step(actions)[brain_name]           # send all actions to tne environment\n",
    "    next_states = env_info.vector_observations         # get next state (for each agent)\n",
    "    rewards = env_info.rewards                         # get reward (for each agent)\n",
    "    dones = env_info.local_done                        # see if episode finished\n",
    "    scores += env_info.rewards                         # update the score (for each agent)\n",
    "    states = next_states                               # roll over states to next time step\n",
    "    if np.any(dones):                                  # exit loop if episode finished\n",
    "        break\n",
    "print('Total score (averaged over agents) this episode: {}'.format(np.mean(scores)))"
   ]
  },
  {
   "cell_type": "markdown",
   "metadata": {},
   "source": [
    "### 4. It's Your Turn!\n",
    "\n",
    "Now it's your turn to train your own agent to solve the environment!  A few **important notes**:\n",
    "- When training the environment, set `train_mode=True`, so that the line for resetting the environment looks like the following:\n",
    "```python\n",
    "env_info = env.reset(train_mode=True)[brain_name]\n",
    "```\n",
    "- To structure your work, you're welcome to work directly in this Jupyter notebook, or you might like to start over with a new file!  You can see the list of files in the workspace by clicking on **_Jupyter_** in the top left corner of the notebook.\n",
    "- In this coding environment, you will not be able to watch the agents while they are training.  However, **_after training the agents_**, you can download the saved model weights to watch the agents on your own machine! "
   ]
  },
  {
   "cell_type": "code",
   "execution_count": 6,
   "metadata": {},
   "outputs": [],
   "source": [
    "from ddpg_agent import Agent\n",
    "agent = Agent(state_size=33, action_size=4, random_seed=2)\n",
    "\n",
    "# get the default brain\n",
    "brain_name = env.brain_names[0]\n",
    "brain = env.brains[brain_name]"
   ]
  },
  {
   "cell_type": "code",
   "execution_count": 7,
   "metadata": {},
   "outputs": [
    {
     "name": "stdout",
     "output_type": "stream",
     "text": [
      "Episode 1 Time: 0.26 min, Statistics --> Average: 0.39, Max: 1.32, Min: 0.00, StDev: 0.34 Rolling Average: 0.39\n",
      "Episode 2 Time: 0.52 min, Statistics --> Average: 0.57, Max: 1.35, Min: 0.28, StDev: 0.27 Rolling Average: 0.48\n",
      "Episode 3 Time: 0.79 min, Statistics --> Average: 0.43, Max: 1.51, Min: 0.00, StDev: 0.41 Rolling Average: 0.46\n",
      "Episode 4 Time: 1.06 min, Statistics --> Average: 0.43, Max: 1.09, Min: 0.00, StDev: 0.28 Rolling Average: 0.46\n",
      "Episode 5 Time: 1.34 min, Statistics --> Average: 0.70, Max: 1.95, Min: 0.00, StDev: 0.41 Rolling Average: 0.50\n",
      "Episode 6 Time: 1.62 min, Statistics --> Average: 0.67, Max: 1.21, Min: 0.04, StDev: 0.36 Rolling Average: 0.53\n",
      "Episode 7 Time: 1.89 min, Statistics --> Average: 0.78, Max: 1.40, Min: 0.00, StDev: 0.38 Rolling Average: 0.57\n",
      "Episode 8 Time: 2.16 min, Statistics --> Average: 0.81, Max: 1.59, Min: 0.30, StDev: 0.36 Rolling Average: 0.60\n",
      "Episode 9 Time: 2.43 min, Statistics --> Average: 0.99, Max: 3.24, Min: 0.00, StDev: 0.74 Rolling Average: 0.64\n",
      "Episode 10 Time: 2.70 min, Statistics --> Average: 1.34, Max: 2.86, Min: 0.35, StDev: 0.64 Rolling Average: 0.71\n",
      "Episode 11 Time: 2.99 min, Statistics --> Average: 1.16, Max: 2.56, Min: 0.00, StDev: 0.62 Rolling Average: 0.75\n",
      "Episode 12 Time: 3.27 min, Statistics --> Average: 1.65, Max: 3.39, Min: 0.00, StDev: 0.94 Rolling Average: 0.83\n",
      "Episode 13 Time: 3.56 min, Statistics --> Average: 1.55, Max: 2.79, Min: 0.33, StDev: 0.53 Rolling Average: 0.88\n",
      "Episode 14 Time: 3.84 min, Statistics --> Average: 1.53, Max: 3.12, Min: 0.62, StDev: 0.73 Rolling Average: 0.93\n",
      "Episode 15 Time: 4.14 min, Statistics --> Average: 1.59, Max: 2.56, Min: 0.57, StDev: 0.58 Rolling Average: 0.97\n",
      "Episode 16 Time: 4.43 min, Statistics --> Average: 1.88, Max: 3.10, Min: 0.64, StDev: 0.67 Rolling Average: 1.03\n",
      "Episode 17 Time: 4.74 min, Statistics --> Average: 2.14, Max: 3.97, Min: 0.00, StDev: 0.94 Rolling Average: 1.09\n",
      "Episode 18 Time: 5.04 min, Statistics --> Average: 2.41, Max: 4.04, Min: 1.14, StDev: 0.80 Rolling Average: 1.17\n",
      "Episode 19 Time: 5.35 min, Statistics --> Average: 2.11, Max: 3.99, Min: 0.42, StDev: 0.94 Rolling Average: 1.22\n",
      "Episode 20 Time: 5.67 min, Statistics --> Average: 2.32, Max: 4.10, Min: 1.05, StDev: 0.77 Rolling Average: 1.27\n",
      "Episode 21 Time: 5.98 min, Statistics --> Average: 2.16, Max: 3.75, Min: 0.55, StDev: 0.77 Rolling Average: 1.31\n",
      "Episode 22 Time: 6.30 min, Statistics --> Average: 2.87, Max: 4.40, Min: 1.59, StDev: 0.81 Rolling Average: 1.39\n",
      "Episode 23 Time: 6.64 min, Statistics --> Average: 2.51, Max: 3.90, Min: 0.72, StDev: 0.85 Rolling Average: 1.43\n",
      "Episode 24 Time: 6.99 min, Statistics --> Average: 2.49, Max: 4.90, Min: 0.84, StDev: 0.93 Rolling Average: 1.48\n",
      "Episode 25 Time: 7.35 min, Statistics --> Average: 2.60, Max: 4.86, Min: 0.25, StDev: 1.05 Rolling Average: 1.52\n",
      "Episode 26 Time: 7.70 min, Statistics --> Average: 2.84, Max: 4.60, Min: 1.07, StDev: 1.09 Rolling Average: 1.57\n",
      "Episode 27 Time: 8.05 min, Statistics --> Average: 3.25, Max: 5.11, Min: 0.91, StDev: 1.07 Rolling Average: 1.64\n",
      "Episode 28 Time: 8.39 min, Statistics --> Average: 2.73, Max: 4.49, Min: 1.06, StDev: 1.11 Rolling Average: 1.68\n",
      "Episode 29 Time: 8.73 min, Statistics --> Average: 2.57, Max: 5.19, Min: 0.52, StDev: 1.04 Rolling Average: 1.71\n",
      "Episode 30 Time: 9.08 min, Statistics --> Average: 3.16, Max: 6.30, Min: 0.67, StDev: 1.29 Rolling Average: 1.75\n",
      "Episode 31 Time: 9.44 min, Statistics --> Average: 2.74, Max: 4.80, Min: 1.02, StDev: 0.99 Rolling Average: 1.79\n",
      "Episode 32 Time: 9.79 min, Statistics --> Average: 3.06, Max: 4.62, Min: 1.59, StDev: 0.91 Rolling Average: 1.83\n",
      "Episode 33 Time: 10.15 min, Statistics --> Average: 3.05, Max: 4.92, Min: 1.70, StDev: 1.03 Rolling Average: 1.86\n",
      "Episode 34 Time: 10.52 min, Statistics --> Average: 3.71, Max: 5.97, Min: 1.28, StDev: 0.98 Rolling Average: 1.92\n",
      "Episode 35 Time: 10.89 min, Statistics --> Average: 4.29, Max: 6.13, Min: 1.87, StDev: 1.28 Rolling Average: 1.99\n",
      "Episode 36 Time: 11.26 min, Statistics --> Average: 3.91, Max: 5.92, Min: 1.47, StDev: 1.13 Rolling Average: 2.04\n",
      "Episode 37 Time: 11.63 min, Statistics --> Average: 4.32, Max: 6.50, Min: 2.92, StDev: 0.96 Rolling Average: 2.10\n",
      "Episode 38 Time: 12.01 min, Statistics --> Average: 4.27, Max: 8.80, Min: 1.63, StDev: 1.56 Rolling Average: 2.16\n",
      "Episode 39 Time: 12.39 min, Statistics --> Average: 3.82, Max: 7.80, Min: 1.83, StDev: 1.27 Rolling Average: 2.20\n",
      "Episode 40 Time: 12.78 min, Statistics --> Average: 4.66, Max: 8.70, Min: 2.00, StDev: 1.54 Rolling Average: 2.26\n",
      "Episode 41 Time: 13.17 min, Statistics --> Average: 4.31, Max: 6.24, Min: 2.12, StDev: 1.14 Rolling Average: 2.31\n",
      "Episode 42 Time: 13.56 min, Statistics --> Average: 4.90, Max: 9.43, Min: 2.28, StDev: 1.67 Rolling Average: 2.37\n",
      "Episode 43 Time: 13.95 min, Statistics --> Average: 4.52, Max: 6.92, Min: 2.22, StDev: 1.16 Rolling Average: 2.42\n",
      "Episode 44 Time: 14.35 min, Statistics --> Average: 5.36, Max: 9.07, Min: 2.28, StDev: 1.88 Rolling Average: 2.49\n",
      "Episode 45 Time: 14.75 min, Statistics --> Average: 4.93, Max: 6.70, Min: 2.96, StDev: 0.99 Rolling Average: 2.54\n",
      "Episode 46 Time: 15.16 min, Statistics --> Average: 5.40, Max: 7.57, Min: 1.37, StDev: 1.26 Rolling Average: 2.61\n",
      "Episode 47 Time: 15.57 min, Statistics --> Average: 5.78, Max: 11.15, Min: 3.12, StDev: 2.21 Rolling Average: 2.67\n",
      "Episode 48 Time: 15.98 min, Statistics --> Average: 5.07, Max: 6.52, Min: 2.22, StDev: 1.00 Rolling Average: 2.72\n",
      "Episode 49 Time: 16.40 min, Statistics --> Average: 5.53, Max: 7.82, Min: 2.35, StDev: 1.46 Rolling Average: 2.78\n",
      "Episode 50 Time: 16.82 min, Statistics --> Average: 5.62, Max: 8.57, Min: 3.42, StDev: 1.48 Rolling Average: 2.84\n",
      "Episode 51 Time: 17.24 min, Statistics --> Average: 5.74, Max: 9.32, Min: 3.39, StDev: 1.57 Rolling Average: 2.89\n",
      "Episode 52 Time: 17.66 min, Statistics --> Average: 4.77, Max: 8.14, Min: 1.90, StDev: 1.76 Rolling Average: 2.93\n",
      "Episode 53 Time: 18.08 min, Statistics --> Average: 5.57, Max: 8.01, Min: 1.99, StDev: 1.55 Rolling Average: 2.98\n",
      "Episode 54 Time: 18.50 min, Statistics --> Average: 5.95, Max: 11.68, Min: 3.54, StDev: 1.76 Rolling Average: 3.04\n",
      "Episode 55 Time: 18.92 min, Statistics --> Average: 4.66, Max: 7.02, Min: 1.26, StDev: 1.62 Rolling Average: 3.06\n",
      "Episode 56 Time: 19.34 min, Statistics --> Average: 5.05, Max: 7.52, Min: 2.46, StDev: 1.45 Rolling Average: 3.10\n",
      "Episode 57 Time: 19.77 min, Statistics --> Average: 5.14, Max: 9.65, Min: 2.81, StDev: 1.54 Rolling Average: 3.14\n",
      "Episode 58 Time: 20.19 min, Statistics --> Average: 5.59, Max: 9.70, Min: 2.80, StDev: 1.61 Rolling Average: 3.18\n",
      "Episode 59 Time: 20.61 min, Statistics --> Average: 5.90, Max: 9.85, Min: 2.95, StDev: 1.94 Rolling Average: 3.22\n",
      "Episode 60 Time: 21.03 min, Statistics --> Average: 5.96, Max: 12.20, Min: 3.09, StDev: 2.04 Rolling Average: 3.27\n",
      "Episode 61 Time: 21.47 min, Statistics --> Average: 5.86, Max: 11.38, Min: 2.64, StDev: 2.07 Rolling Average: 3.31\n",
      "Episode 62 Time: 21.92 min, Statistics --> Average: 5.53, Max: 10.08, Min: 1.92, StDev: 1.84 Rolling Average: 3.35\n",
      "Episode 63 Time: 22.37 min, Statistics --> Average: 6.88, Max: 10.74, Min: 3.64, StDev: 1.97 Rolling Average: 3.40\n",
      "Episode 64 Time: 22.80 min, Statistics --> Average: 6.63, Max: 10.53, Min: 3.49, StDev: 1.81 Rolling Average: 3.45\n",
      "Episode 65 Time: 23.22 min, Statistics --> Average: 6.64, Max: 8.86, Min: 4.11, StDev: 1.58 Rolling Average: 3.50\n",
      "Episode 66 Time: 23.64 min, Statistics --> Average: 6.97, Max: 10.08, Min: 4.93, StDev: 1.23 Rolling Average: 3.56\n",
      "Episode 67 Time: 24.05 min, Statistics --> Average: 6.02, Max: 9.20, Min: 3.01, StDev: 1.69 Rolling Average: 3.59\n",
      "Episode 68 Time: 24.47 min, Statistics --> Average: 7.32, Max: 12.23, Min: 2.31, StDev: 2.50 Rolling Average: 3.65\n",
      "Episode 69 Time: 24.89 min, Statistics --> Average: 6.33, Max: 10.33, Min: 3.66, StDev: 1.61 Rolling Average: 3.69\n",
      "Episode 70 Time: 25.30 min, Statistics --> Average: 6.79, Max: 15.33, Min: 3.19, StDev: 2.73 Rolling Average: 3.73\n",
      "Episode 71 Time: 25.72 min, Statistics --> Average: 7.71, Max: 13.33, Min: 2.37, StDev: 2.33 Rolling Average: 3.79\n",
      "Episode 72 Time: 26.14 min, Statistics --> Average: 7.31, Max: 12.55, Min: 4.32, StDev: 2.00 Rolling Average: 3.84\n",
      "Episode 73 Time: 26.56 min, Statistics --> Average: 7.18, Max: 9.74, Min: 5.07, StDev: 1.38 Rolling Average: 3.88\n"
     ]
    },
    {
     "name": "stdout",
     "output_type": "stream",
     "text": [
      "Episode 74 Time: 26.97 min, Statistics --> Average: 6.22, Max: 9.51, Min: 3.40, StDev: 1.57 Rolling Average: 3.91\n",
      "Episode 75 Time: 27.39 min, Statistics --> Average: 7.79, Max: 11.83, Min: 4.23, StDev: 2.09 Rolling Average: 3.97\n",
      "Episode 76 Time: 27.81 min, Statistics --> Average: 7.87, Max: 11.64, Min: 2.93, StDev: 2.59 Rolling Average: 4.02\n",
      "Episode 77 Time: 28.23 min, Statistics --> Average: 8.08, Max: 18.85, Min: 2.86, StDev: 3.10 Rolling Average: 4.07\n",
      "Episode 78 Time: 28.65 min, Statistics --> Average: 9.36, Max: 13.06, Min: 6.44, StDev: 1.77 Rolling Average: 4.14\n",
      "Episode 79 Time: 29.07 min, Statistics --> Average: 8.07, Max: 11.16, Min: 4.72, StDev: 1.80 Rolling Average: 4.19\n",
      "Episode 80 Time: 29.49 min, Statistics --> Average: 8.89, Max: 19.53, Min: 2.05, StDev: 3.38 Rolling Average: 4.25\n",
      "Episode 81 Time: 29.91 min, Statistics --> Average: 9.27, Max: 14.54, Min: 6.12, StDev: 1.97 Rolling Average: 4.31\n",
      "Episode 82 Time: 30.33 min, Statistics --> Average: 7.53, Max: 11.82, Min: 4.54, StDev: 1.88 Rolling Average: 4.35\n",
      "Episode 83 Time: 30.75 min, Statistics --> Average: 9.39, Max: 16.37, Min: 6.05, StDev: 2.06 Rolling Average: 4.41\n",
      "Episode 84 Time: 31.17 min, Statistics --> Average: 8.36, Max: 12.58, Min: 1.58, StDev: 2.26 Rolling Average: 4.46\n",
      "Episode 85 Time: 31.59 min, Statistics --> Average: 8.86, Max: 13.22, Min: 5.33, StDev: 2.06 Rolling Average: 4.51\n",
      "Episode 86 Time: 32.01 min, Statistics --> Average: 9.39, Max: 13.92, Min: 6.40, StDev: 2.14 Rolling Average: 4.56\n",
      "Episode 87 Time: 32.43 min, Statistics --> Average: 9.84, Max: 13.60, Min: 7.13, StDev: 1.92 Rolling Average: 4.62\n",
      "Episode 88 Time: 32.85 min, Statistics --> Average: 9.79, Max: 15.17, Min: 6.74, StDev: 1.94 Rolling Average: 4.68\n",
      "Episode 89 Time: 33.27 min, Statistics --> Average: 9.09, Max: 13.39, Min: 6.60, StDev: 1.78 Rolling Average: 4.73\n",
      "Episode 90 Time: 33.69 min, Statistics --> Average: 10.23, Max: 13.05, Min: 6.18, StDev: 1.75 Rolling Average: 4.79\n",
      "Episode 91 Time: 34.11 min, Statistics --> Average: 9.59, Max: 12.65, Min: 2.00, StDev: 2.38 Rolling Average: 4.85\n",
      "Episode 92 Time: 34.53 min, Statistics --> Average: 9.73, Max: 14.90, Min: 2.20, StDev: 2.83 Rolling Average: 4.90\n",
      "Episode 93 Time: 34.95 min, Statistics --> Average: 10.32, Max: 16.62, Min: 4.26, StDev: 2.73 Rolling Average: 4.96\n",
      "Episode 94 Time: 35.37 min, Statistics --> Average: 9.76, Max: 12.87, Min: 2.70, StDev: 2.38 Rolling Average: 5.01\n",
      "Episode 95 Time: 35.79 min, Statistics --> Average: 11.38, Max: 29.36, Min: 6.39, StDev: 4.70 Rolling Average: 5.08\n",
      "Episode 96 Time: 36.21 min, Statistics --> Average: 10.76, Max: 14.76, Min: 8.01, StDev: 2.14 Rolling Average: 5.14\n",
      "Episode 97 Time: 36.64 min, Statistics --> Average: 9.39, Max: 12.87, Min: 6.50, StDev: 1.59 Rolling Average: 5.18\n",
      "Episode 98 Time: 37.09 min, Statistics --> Average: 9.73, Max: 12.94, Min: 5.78, StDev: 2.07 Rolling Average: 5.23\n",
      "Episode 99 Time: 37.53 min, Statistics --> Average: 8.63, Max: 14.44, Min: 3.86, StDev: 2.98 Rolling Average: 5.26\n",
      "Episode 100 Time: 37.97 min, Statistics --> Average: 9.51, Max: 12.90, Min: 5.18, StDev: 2.57 Rolling Average: 5.30\n",
      "Episode 100\t Score Statistics on Rolling 100 Episodes -> Average: 5.30 Max: 11.38, Min: 0.39, StDev: 2.99\n",
      "Episode 101 Time: 38.39 min, Statistics --> Average: 10.23, Max: 22.70, Min: 4.91, StDev: 3.97 Rolling Average: 5.40\n",
      "Episode 102 Time: 38.80 min, Statistics --> Average: 10.39, Max: 22.49, Min: 6.09, StDev: 3.84 Rolling Average: 5.50\n",
      "Episode 103 Time: 39.22 min, Statistics --> Average: 9.94, Max: 14.61, Min: 6.54, StDev: 2.20 Rolling Average: 5.59\n",
      "Episode 104 Time: 39.64 min, Statistics --> Average: 10.81, Max: 15.21, Min: 4.29, StDev: 2.74 Rolling Average: 5.70\n",
      "Episode 105 Time: 40.06 min, Statistics --> Average: 12.49, Max: 31.07, Min: 7.85, StDev: 4.77 Rolling Average: 5.82\n",
      "Episode 106 Time: 40.48 min, Statistics --> Average: 11.84, Max: 15.65, Min: 5.23, StDev: 2.72 Rolling Average: 5.93\n",
      "Episode 107 Time: 40.90 min, Statistics --> Average: 10.59, Max: 15.67, Min: 2.88, StDev: 2.97 Rolling Average: 6.03\n",
      "Episode 108 Time: 41.32 min, Statistics --> Average: 12.09, Max: 18.80, Min: 5.77, StDev: 3.46 Rolling Average: 6.14\n",
      "Episode 109 Time: 41.74 min, Statistics --> Average: 15.81, Max: 22.37, Min: 8.37, StDev: 3.49 Rolling Average: 6.29\n",
      "Episode 110 Time: 42.17 min, Statistics --> Average: 13.25, Max: 19.72, Min: 7.29, StDev: 3.63 Rolling Average: 6.41\n",
      "Episode 111 Time: 42.59 min, Statistics --> Average: 12.45, Max: 18.56, Min: 5.95, StDev: 4.16 Rolling Average: 6.52\n",
      "Episode 112 Time: 43.01 min, Statistics --> Average: 18.50, Max: 28.74, Min: 8.08, StDev: 5.21 Rolling Average: 6.69\n",
      "Episode 113 Time: 43.44 min, Statistics --> Average: 17.07, Max: 22.67, Min: 6.65, StDev: 3.95 Rolling Average: 6.84\n",
      "Episode 114 Time: 43.86 min, Statistics --> Average: 14.20, Max: 34.94, Min: 5.47, StDev: 6.49 Rolling Average: 6.97\n",
      "Episode 115 Time: 44.29 min, Statistics --> Average: 18.28, Max: 37.96, Min: 6.36, StDev: 7.96 Rolling Average: 7.14\n",
      "Episode 116 Time: 44.70 min, Statistics --> Average: 14.89, Max: 25.60, Min: 1.23, StDev: 4.50 Rolling Average: 7.27\n",
      "Episode 117 Time: 45.12 min, Statistics --> Average: 16.50, Max: 20.97, Min: 7.22, StDev: 3.48 Rolling Average: 7.41\n",
      "Episode 118 Time: 45.55 min, Statistics --> Average: 16.52, Max: 38.99, Min: 4.10, StDev: 7.19 Rolling Average: 7.55\n",
      "Episode 119 Time: 45.97 min, Statistics --> Average: 17.88, Max: 28.38, Min: 9.92, StDev: 4.89 Rolling Average: 7.71\n",
      "Episode 120 Time: 46.39 min, Statistics --> Average: 15.08, Max: 26.19, Min: 6.98, StDev: 5.40 Rolling Average: 7.84\n",
      "Episode 121 Time: 46.81 min, Statistics --> Average: 17.29, Max: 25.26, Min: 6.12, StDev: 5.38 Rolling Average: 7.99\n",
      "Episode 122 Time: 47.24 min, Statistics --> Average: 17.18, Max: 23.81, Min: 8.26, StDev: 3.66 Rolling Average: 8.13\n",
      "Episode 123 Time: 47.66 min, Statistics --> Average: 17.07, Max: 24.40, Min: 7.70, StDev: 4.76 Rolling Average: 8.28\n",
      "Episode 124 Time: 48.09 min, Statistics --> Average: 17.75, Max: 28.33, Min: 9.84, StDev: 4.64 Rolling Average: 8.43\n",
      "Episode 125 Time: 48.51 min, Statistics --> Average: 17.52, Max: 24.06, Min: 9.98, StDev: 3.85 Rolling Average: 8.58\n",
      "Episode 126 Time: 48.93 min, Statistics --> Average: 19.46, Max: 27.79, Min: 10.78, StDev: 5.14 Rolling Average: 8.74\n",
      "Episode 127 Time: 49.36 min, Statistics --> Average: 17.66, Max: 24.95, Min: 9.39, StDev: 5.42 Rolling Average: 8.89\n",
      "Episode 128 Time: 49.79 min, Statistics --> Average: 18.48, Max: 25.40, Min: 10.66, StDev: 4.45 Rolling Average: 9.05\n",
      "Episode 129 Time: 50.21 min, Statistics --> Average: 18.55, Max: 25.82, Min: 8.19, StDev: 5.11 Rolling Average: 9.21\n",
      "Episode 130 Time: 50.63 min, Statistics --> Average: 21.33, Max: 38.64, Min: 10.48, StDev: 5.99 Rolling Average: 9.39\n",
      "Episode 131 Time: 51.05 min, Statistics --> Average: 22.03, Max: 29.22, Min: 12.59, StDev: 3.84 Rolling Average: 9.58\n",
      "Episode 132 Time: 51.49 min, Statistics --> Average: 21.07, Max: 29.66, Min: 6.16, StDev: 5.60 Rolling Average: 9.76\n",
      "Episode 133 Time: 51.94 min, Statistics --> Average: 22.21, Max: 29.90, Min: 8.43, StDev: 6.52 Rolling Average: 9.95\n",
      "Episode 134 Time: 52.39 min, Statistics --> Average: 23.54, Max: 28.87, Min: 9.58, StDev: 4.60 Rolling Average: 10.15\n",
      "Episode 135 Time: 52.82 min, Statistics --> Average: 22.04, Max: 39.59, Min: 12.38, StDev: 6.99 Rolling Average: 10.33\n",
      "Episode 136 Time: 53.24 min, Statistics --> Average: 24.06, Max: 37.89, Min: 11.08, StDev: 5.37 Rolling Average: 10.53\n",
      "Episode 137 Time: 53.66 min, Statistics --> Average: 25.20, Max: 30.93, Min: 12.11, StDev: 5.23 Rolling Average: 10.74\n",
      "Episode 138 Time: 54.08 min, Statistics --> Average: 23.25, Max: 29.13, Min: 12.65, StDev: 5.36 Rolling Average: 10.93\n",
      "Episode 139 Time: 54.50 min, Statistics --> Average: 27.12, Max: 37.39, Min: 13.63, StDev: 6.19 Rolling Average: 11.16\n",
      "Episode 140 Time: 54.92 min, Statistics --> Average: 24.85, Max: 33.55, Min: 16.59, StDev: 4.76 Rolling Average: 11.36\n",
      "Episode 141 Time: 55.34 min, Statistics --> Average: 24.39, Max: 32.66, Min: 14.28, StDev: 5.91 Rolling Average: 11.56\n",
      "Episode 142 Time: 55.77 min, Statistics --> Average: 28.01, Max: 34.77, Min: 17.10, StDev: 4.11 Rolling Average: 11.79\n",
      "Episode 143 Time: 56.19 min, Statistics --> Average: 28.56, Max: 35.90, Min: 21.60, StDev: 3.86 Rolling Average: 12.03\n"
     ]
    },
    {
     "name": "stdout",
     "output_type": "stream",
     "text": [
      "Episode 144 Time: 56.61 min, Statistics --> Average: 30.18, Max: 35.45, Min: 17.72, StDev: 4.31 Rolling Average: 12.28\n",
      "Episode 145 Time: 57.03 min, Statistics --> Average: 27.07, Max: 34.82, Min: 19.45, StDev: 4.23 Rolling Average: 12.50\n",
      "Episode 146 Time: 57.45 min, Statistics --> Average: 27.80, Max: 34.76, Min: 21.58, StDev: 4.10 Rolling Average: 12.73\n",
      "Episode 147 Time: 57.88 min, Statistics --> Average: 26.68, Max: 32.23, Min: 18.72, StDev: 3.75 Rolling Average: 12.94\n",
      "Episode 148 Time: 58.30 min, Statistics --> Average: 27.49, Max: 39.38, Min: 18.53, StDev: 4.63 Rolling Average: 13.16\n",
      "Episode 149 Time: 58.72 min, Statistics --> Average: 27.82, Max: 37.97, Min: 17.43, StDev: 4.63 Rolling Average: 13.38\n",
      "Episode 150 Time: 59.15 min, Statistics --> Average: 28.49, Max: 37.37, Min: 17.19, StDev: 4.24 Rolling Average: 13.61\n",
      "Episode 151 Time: 59.57 min, Statistics --> Average: 26.33, Max: 33.91, Min: 22.15, StDev: 3.12 Rolling Average: 13.82\n",
      "Episode 152 Time: 59.99 min, Statistics --> Average: 29.27, Max: 37.15, Min: 23.59, StDev: 3.27 Rolling Average: 14.06\n",
      "Episode 153 Time: 60.42 min, Statistics --> Average: 32.03, Max: 38.71, Min: 27.31, StDev: 2.46 Rolling Average: 14.33\n",
      "Episode 154 Time: 60.84 min, Statistics --> Average: 32.28, Max: 36.43, Min: 18.78, StDev: 3.82 Rolling Average: 14.59\n",
      "Episode 155 Time: 61.26 min, Statistics --> Average: 31.41, Max: 34.52, Min: 26.57, StDev: 2.16 Rolling Average: 14.86\n",
      "Episode 156 Time: 61.68 min, Statistics --> Average: 32.07, Max: 35.14, Min: 27.27, StDev: 2.08 Rolling Average: 15.13\n",
      "Episode 157 Time: 62.11 min, Statistics --> Average: 30.70, Max: 35.77, Min: 22.45, StDev: 3.29 Rolling Average: 15.39\n",
      "Episode 158 Time: 62.53 min, Statistics --> Average: 31.82, Max: 36.49, Min: 24.37, StDev: 3.63 Rolling Average: 15.65\n",
      "Episode 159 Time: 62.95 min, Statistics --> Average: 32.36, Max: 36.07, Min: 24.74, StDev: 2.88 Rolling Average: 15.91\n",
      "Episode 160 Time: 63.38 min, Statistics --> Average: 33.29, Max: 35.78, Min: 28.07, StDev: 1.81 Rolling Average: 16.19\n",
      "Episode 161 Time: 63.80 min, Statistics --> Average: 34.07, Max: 37.30, Min: 25.16, StDev: 3.47 Rolling Average: 16.47\n",
      "Episode 162 Time: 64.22 min, Statistics --> Average: 33.11, Max: 37.26, Min: 23.35, StDev: 3.15 Rolling Average: 16.74\n",
      "Episode 163 Time: 64.64 min, Statistics --> Average: 32.33, Max: 37.16, Min: 21.36, StDev: 3.89 Rolling Average: 17.00\n",
      "Episode 164 Time: 65.08 min, Statistics --> Average: 33.69, Max: 39.55, Min: 27.61, StDev: 2.73 Rolling Average: 17.27\n",
      "Episode 165 Time: 65.50 min, Statistics --> Average: 33.96, Max: 38.57, Min: 27.87, StDev: 3.00 Rolling Average: 17.54\n",
      "Episode 166 Time: 65.92 min, Statistics --> Average: 34.04, Max: 39.24, Min: 30.43, StDev: 2.27 Rolling Average: 17.81\n",
      "Episode 167 Time: 66.35 min, Statistics --> Average: 33.86, Max: 37.70, Min: 30.45, StDev: 2.03 Rolling Average: 18.09\n",
      "Episode 168 Time: 66.80 min, Statistics --> Average: 34.36, Max: 38.76, Min: 29.17, StDev: 2.51 Rolling Average: 18.36\n",
      "Episode 169 Time: 67.25 min, Statistics --> Average: 34.88, Max: 39.05, Min: 26.56, StDev: 2.84 Rolling Average: 18.65\n",
      "Episode 170 Time: 67.71 min, Statistics --> Average: 34.59, Max: 37.73, Min: 27.49, StDev: 2.68 Rolling Average: 18.92\n",
      "Episode 171 Time: 68.13 min, Statistics --> Average: 34.71, Max: 37.48, Min: 24.88, StDev: 2.64 Rolling Average: 19.19\n",
      "Episode 172 Time: 68.55 min, Statistics --> Average: 34.79, Max: 39.09, Min: 29.95, StDev: 2.40 Rolling Average: 19.47\n",
      "Episode 173 Time: 68.98 min, Statistics --> Average: 33.72, Max: 38.43, Min: 19.36, StDev: 4.45 Rolling Average: 19.73\n",
      "Episode 174 Time: 69.41 min, Statistics --> Average: 34.03, Max: 38.88, Min: 25.66, StDev: 3.72 Rolling Average: 20.01\n",
      "Episode 175 Time: 69.83 min, Statistics --> Average: 33.95, Max: 39.13, Min: 22.36, StDev: 4.58 Rolling Average: 20.27\n",
      "Episode 176 Time: 70.26 min, Statistics --> Average: 32.67, Max: 38.57, Min: 23.42, StDev: 4.67 Rolling Average: 20.52\n",
      "Episode 177 Time: 70.68 min, Statistics --> Average: 33.48, Max: 38.63, Min: 19.28, StDev: 4.28 Rolling Average: 20.78\n",
      "Episode 178 Time: 71.10 min, Statistics --> Average: 34.09, Max: 39.41, Min: 26.81, StDev: 3.05 Rolling Average: 21.02\n",
      "Episode 179 Time: 71.53 min, Statistics --> Average: 33.86, Max: 37.56, Min: 25.47, StDev: 3.51 Rolling Average: 21.28\n",
      "Episode 180 Time: 71.97 min, Statistics --> Average: 34.35, Max: 37.97, Min: 23.73, StDev: 3.74 Rolling Average: 21.54\n",
      "Episode 181 Time: 72.39 min, Statistics --> Average: 32.90, Max: 38.92, Min: 24.16, StDev: 5.51 Rolling Average: 21.77\n",
      "Episode 182 Time: 72.81 min, Statistics --> Average: 33.16, Max: 38.79, Min: 26.42, StDev: 3.85 Rolling Average: 22.03\n",
      "Episode 183 Time: 73.24 min, Statistics --> Average: 34.20, Max: 38.78, Min: 28.60, StDev: 3.14 Rolling Average: 22.28\n",
      "Episode 184 Time: 73.66 min, Statistics --> Average: 33.73, Max: 38.52, Min: 26.53, StDev: 3.36 Rolling Average: 22.53\n",
      "Episode 185 Time: 74.08 min, Statistics --> Average: 34.80, Max: 38.55, Min: 29.82, StDev: 2.47 Rolling Average: 22.79\n",
      "Episode 186 Time: 74.50 min, Statistics --> Average: 32.47, Max: 38.89, Min: 25.23, StDev: 4.64 Rolling Average: 23.02\n",
      "Episode 187 Time: 74.93 min, Statistics --> Average: 34.43, Max: 38.62, Min: 31.36, StDev: 2.18 Rolling Average: 23.27\n",
      "Episode 188 Time: 75.35 min, Statistics --> Average: 34.32, Max: 39.56, Min: 28.99, StDev: 3.04 Rolling Average: 23.51\n",
      "Episode 189 Time: 75.78 min, Statistics --> Average: 35.46, Max: 38.93, Min: 28.20, StDev: 2.97 Rolling Average: 23.78\n",
      "Episode 190 Time: 76.20 min, Statistics --> Average: 35.96, Max: 39.18, Min: 28.51, StDev: 2.86 Rolling Average: 24.03\n",
      "Episode 191 Time: 76.62 min, Statistics --> Average: 35.72, Max: 39.52, Min: 27.45, StDev: 3.25 Rolling Average: 24.29\n",
      "Episode 192 Time: 77.04 min, Statistics --> Average: 34.08, Max: 39.57, Min: 25.57, StDev: 4.13 Rolling Average: 24.54\n",
      "Episode 193 Time: 77.47 min, Statistics --> Average: 34.79, Max: 39.63, Min: 30.51, StDev: 2.54 Rolling Average: 24.78\n",
      "Episode 194 Time: 77.90 min, Statistics --> Average: 35.19, Max: 39.24, Min: 29.91, StDev: 2.80 Rolling Average: 25.04\n",
      "Episode 195 Time: 78.32 min, Statistics --> Average: 36.95, Max: 39.06, Min: 31.56, StDev: 2.32 Rolling Average: 25.29\n",
      "Episode 196 Time: 78.74 min, Statistics --> Average: 36.81, Max: 39.40, Min: 33.69, StDev: 1.61 Rolling Average: 25.55\n",
      "Episode 197 Time: 79.17 min, Statistics --> Average: 34.08, Max: 38.83, Min: 24.78, StDev: 4.15 Rolling Average: 25.80\n",
      "Episode 198 Time: 79.59 min, Statistics --> Average: 35.37, Max: 39.26, Min: 28.12, StDev: 3.20 Rolling Average: 26.06\n",
      "Episode 199 Time: 80.02 min, Statistics --> Average: 35.60, Max: 39.40, Min: 30.31, StDev: 2.59 Rolling Average: 26.33\n",
      "Episode 200 Time: 80.44 min, Statistics --> Average: 35.96, Max: 39.24, Min: 29.12, StDev: 2.98 Rolling Average: 26.59\n",
      "Episode 200\t Score Statistics on Rolling 100 Episodes -> Average: 26.59 Max: 36.95, Min: 9.94, StDev: 8.33\n",
      "Episode 201 Time: 80.86 min, Statistics --> Average: 36.62, Max: 39.08, Min: 31.23, StDev: 2.29 Rolling Average: 26.85\n",
      "Episode 202 Time: 81.29 min, Statistics --> Average: 36.05, Max: 38.69, Min: 32.53, StDev: 1.52 Rolling Average: 27.11\n",
      "Episode 203 Time: 81.75 min, Statistics --> Average: 36.47, Max: 39.23, Min: 31.34, StDev: 2.04 Rolling Average: 27.38\n",
      "Episode 204 Time: 82.20 min, Statistics --> Average: 37.35, Max: 38.85, Min: 34.09, StDev: 1.27 Rolling Average: 27.64\n",
      "Episode 205 Time: 82.66 min, Statistics --> Average: 36.86, Max: 39.41, Min: 31.33, StDev: 1.81 Rolling Average: 27.89\n",
      "Episode 206 Time: 83.09 min, Statistics --> Average: 36.96, Max: 39.41, Min: 33.71, StDev: 1.50 Rolling Average: 28.14\n",
      "Episode 207 Time: 83.52 min, Statistics --> Average: 36.71, Max: 38.53, Min: 34.31, StDev: 1.36 Rolling Average: 28.40\n",
      "Episode 208 Time: 83.94 min, Statistics --> Average: 36.80, Max: 39.28, Min: 31.57, StDev: 2.27 Rolling Average: 28.64\n",
      "Episode 209 Time: 84.37 min, Statistics --> Average: 37.52, Max: 39.42, Min: 34.19, StDev: 1.60 Rolling Average: 28.86\n",
      "Episode 210 Time: 84.80 min, Statistics --> Average: 36.67, Max: 38.88, Min: 30.79, StDev: 1.83 Rolling Average: 29.10\n",
      "Episode 211 Time: 85.23 min, Statistics --> Average: 35.84, Max: 38.98, Min: 32.36, StDev: 1.99 Rolling Average: 29.33\n"
     ]
    },
    {
     "name": "stdout",
     "output_type": "stream",
     "text": [
      "Episode 212 Time: 85.65 min, Statistics --> Average: 37.30, Max: 39.31, Min: 32.63, StDev: 1.84 Rolling Average: 29.52\n",
      "Episode 213 Time: 86.08 min, Statistics --> Average: 36.70, Max: 39.12, Min: 33.54, StDev: 1.47 Rolling Average: 29.71\n",
      "Episode 214 Time: 86.50 min, Statistics --> Average: 37.12, Max: 39.62, Min: 33.28, StDev: 1.64 Rolling Average: 29.94\n",
      "Episode 215 Time: 86.93 min, Statistics --> Average: 36.44, Max: 38.90, Min: 30.27, StDev: 2.44 Rolling Average: 30.13\n"
     ]
    }
   ],
   "source": [
    "from itertools import count\n",
    "import time\n",
    "def ddpg(n_episodes=5000,max_n_timesteps = 5000,rolling_window_size=100,target_average=30):\n",
    "    scores_deque = deque(maxlen=rolling_window_size)\n",
    "    average_score_history = []\n",
    "    rolling_average_history = []\n",
    "    max_score_history = []\n",
    "    min_score_history = []\n",
    "    start_time = time.time()\n",
    "    for i_episode in range(1, n_episodes+1):\n",
    "        env_info = env.reset(train_mode=True)[brain_name]      # reset the environment    \n",
    "        states = env_info.vector_observations                  # get the current state (for each agent)\n",
    "        scores = np.zeros(num_agents)                          # initialize the score (for each agent)\n",
    "        agent.reset()\n",
    "        for t_step in range(max_n_timesteps):\n",
    "            actions = agent.act(states)\n",
    "            env_info = env.step(actions)[brain_name]           # send all actions to tne environment\n",
    "            next_states = env_info.vector_observations         # get next state (for each agent)\n",
    "            rewards = env_info.rewards                         # get reward (for each agent)\n",
    "            dones = env_info.local_done                        # see if episode finished\n",
    "            agent.step(states, actions, rewards, next_states, dones,t_step)\n",
    "            states = next_states                               # roll over states to next time step\n",
    "            scores += rewards                                  # update the score (for each agent)            \n",
    "            if np.any(dones):                                  # exit loop if episode finished\n",
    "                break\n",
    "        \n",
    "        score = np.mean(scores)\n",
    "        scores_deque.append(score)\n",
    "        last_n_score_average = np.mean(scores_deque)\n",
    "        rolling_average_history.append(last_n_score_average)\n",
    "        average_score_history.append(score)\n",
    "        max_score_history.append(np.max(scores))\n",
    "        min_score_history.append(np.min(scores))\n",
    "        torch.save(agent.actor_local.state_dict(), 'checkpoint_actor.pth')\n",
    "        torch.save(agent.critic_local.state_dict(), 'checkpoint_critic.pth')\n",
    "        print('\\rEpisode {} Time: {:.2f} min, Statistics --> Average: {:.2f}, Max: {:.2f}, Min: {:.2f}, StDev: {:.2f} Rolling Average: {:.2f}'\\\n",
    "              .format(i_episode,(time.time()-start_time)/60, score, np.max(scores), np.min(scores),np.std(scores), last_n_score_average))        \n",
    "        if i_episode % rolling_window_size == 0:\n",
    "            print('\\rEpisode {}\\t Score Statistics on Rolling {} Episodes -> Average: {:.2f} Max: {:.2f}, Min: {:.2f}, StDev: {:.2f}'\\\n",
    "                  .format(i_episode,rolling_window_size, np.mean(scores_deque),np.max(scores_deque), np.min(scores_deque),np.std(scores_deque)))   \n",
    "        if last_n_score_average>target_average:\n",
    "            break\n",
    "            \n",
    "    return average_score_history,rolling_average_history, max_score_history, min_score_history\n",
    "\n",
    "average_score_history,rolling_average_history, max_score_history, min_score_history = ddpg()"
   ]
  },
  {
   "cell_type": "code",
   "execution_count": 12,
   "metadata": {},
   "outputs": [
    {
     "data": {
      "image/png": "[encoded data removed]",
      "text/plain": [
       "<Figure size 432x288 with 1 Axes>"
      ]
     },
     "metadata": {
      "needs_background": "light"
     },
     "output_type": "display_data"
    }
   ],
   "source": [
    "fig = plt.figure()\n",
    "ax = fig.add_subplot(111)\n",
    "plt.plot(np.arange(1, len(average_score_history)+1), average_score_history, label=\"Episode Average\")\n",
    "plt.plot(np.arange(1, len(rolling_average_history)+1), rolling_average_history, label=\"Rolling 100 Episode Average\")\n",
    "plt.plot(np.arange(1, len(max_score_history)+1), max_score_history, label=\"Episode Max\")\n",
    "plt.plot(np.arange(1, len(min_score_history)+1), min_score_history, label=\"Episode Min\")\n",
    "plt.legend(loc='upper left')\n",
    "plt.ylabel('Score')\n",
    "plt.xlabel('Episode #')\n",
    "plt.title('Training Overview')\n",
    "plt.show()"
   ]
  },
  {
   "cell_type": "markdown",
   "metadata": {},
   "source": [
    "When finished, you can close the environment."
   ]
  },
  {
   "cell_type": "code",
   "execution_count": null,
   "metadata": {},
   "outputs": [],
   "source": [
    "env.close()"
   ]
  },
  {
   "cell_type": "code",
   "execution_count": null,
   "metadata": {},
   "outputs": [],
   "source": []
  }
 ],
 "metadata": {
  "kernelspec": {
   "display_name": "Python 3.6",
   "language": "python",
   "name": "python_36"
  },
  "language_info": {
   "codemirror_mode": {
    "name": "ipython",
    "version": 3
   },
   "file_extension": ".py",
   "mimetype": "text/x-python",
   "name": "python",
   "nbconvert_exporter": "python",
   "pygments_lexer": "ipython3",
   "version": "3.6.3"
  }
 },
 "nbformat": 4,
 "nbformat_minor": 2
}
