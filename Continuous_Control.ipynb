{
 "cells": [
  {
   "cell_type": "markdown",
   "metadata": {},
   "source": [
    "# Continuous Control\n",
    "\n",
    "---\n",
    "\n",
    "You are welcome to use this coding environment to train your agent for the project.  Follow the instructions below to get started!\n",
    "\n",
    "### 1. Start the Environment\n",
    "\n",
    "Run the next code cell to install a few packages.  This line will take a few minutes to run!"
   ]
  },
  {
   "cell_type": "code",
   "execution_count": 1,
   "metadata": {},
   "outputs": [
    {
     "name": "stdout",
     "output_type": "stream",
     "text": [
      "3.6.3 |Anaconda, Inc.| (default, Dec  5 2017, 17:30:25) \n",
      "[GCC 4.2.1 Compatible Clang 4.0.1 (tags/RELEASE_401/final)]\n"
     ]
    }
   ],
   "source": [
    "import sys\n",
    "print(sys.version)"
   ]
  },
  {
   "cell_type": "raw",
   "metadata": {},
   "source": [
    "!pip -q install ./python"
   ]
  },
  {
   "cell_type": "markdown",
   "metadata": {},
   "source": [
    "The environments corresponding to both versions of the environment are already saved in the Workspace and can be accessed at the file paths provided below.  \n",
    "\n",
    "Please select one of the two options below for loading the environment."
   ]
  },
  {
   "cell_type": "code",
   "execution_count": 2,
   "metadata": {},
   "outputs": [
    {
     "name": "stderr",
     "output_type": "stream",
     "text": [
      "INFO:unityagents:\n",
      "'Academy' started successfully!\n",
      "Unity Academy name: Academy\n",
      "        Number of Brains: 1\n",
      "        Number of External Brains : 1\n",
      "        Lesson number : 0\n",
      "        Reset Parameters :\n",
      "\t\tgoal_speed -> 1.0\n",
      "\t\tgoal_size -> 5.0\n",
      "Unity brain name: ReacherBrain\n",
      "        Number of Visual Observations (per agent): 0\n",
      "        Vector Observation space type: continuous\n",
      "        Vector Observation space size (per agent): 33\n",
      "        Number of stacked Vector Observation: 1\n",
      "        Vector Action space type: continuous\n",
      "        Vector Action space size (per agent): 4\n",
      "        Vector Action descriptions: , , , \n"
     ]
    }
   ],
   "source": [
    "from unityagents import UnityEnvironment\n",
    "import numpy as np\n",
    "import torch\n",
    "from collections import deque\n",
    "import matplotlib.pyplot as plt\n",
    "%matplotlib inline\n",
    "\n",
    "# select this option to load version 1 (with a single agent) of the environment\n",
    "env = UnityEnvironment(file_name='/Users/hunterkempf/Downloads/Reacher.app')\n",
    "\n",
    "# select this option to load version 2 (with 20 agents) of the environment\n",
    "# env = UnityEnvironment(file_name='/data/Reacher_Linux_NoVis/Reacher.x86_64')"
   ]
  },
  {
   "cell_type": "markdown",
   "metadata": {},
   "source": [
    "Environments contain **_brains_** which are responsible for deciding the actions of their associated agents. Here we check for the first brain available, and set it as the default brain we will be controlling from Python."
   ]
  },
  {
   "cell_type": "code",
   "execution_count": 3,
   "metadata": {},
   "outputs": [],
   "source": [
    "# get the default brain\n",
    "brain_name = env.brain_names[0]\n",
    "brain = env.brains[brain_name]"
   ]
  },
  {
   "cell_type": "markdown",
   "metadata": {},
   "source": [
    "### 2. Examine the State and Action Spaces\n",
    "\n",
    "Run the code cell below to print some information about the environment."
   ]
  },
  {
   "cell_type": "code",
   "execution_count": 4,
   "metadata": {},
   "outputs": [
    {
     "name": "stdout",
     "output_type": "stream",
     "text": [
      "Number of agents: 20\n",
      "Size of each action: 4\n",
      "There are 20 agents. Each observes a state with length: 33\n",
      "The state for the first agent looks like: [ 0.00000000e+00 -4.00000000e+00  0.00000000e+00  1.00000000e+00\n",
      " -0.00000000e+00 -0.00000000e+00 -4.37113883e-08  0.00000000e+00\n",
      "  0.00000000e+00  0.00000000e+00  0.00000000e+00  0.00000000e+00\n",
      "  0.00000000e+00  0.00000000e+00 -1.00000000e+01  0.00000000e+00\n",
      "  1.00000000e+00 -0.00000000e+00 -0.00000000e+00 -4.37113883e-08\n",
      "  0.00000000e+00  0.00000000e+00  0.00000000e+00  0.00000000e+00\n",
      "  0.00000000e+00  0.00000000e+00  5.75471878e+00 -1.00000000e+00\n",
      "  5.55726624e+00  0.00000000e+00  1.00000000e+00  0.00000000e+00\n",
      " -1.68164849e-01]\n"
     ]
    }
   ],
   "source": [
    "# reset the environment\n",
    "env_info = env.reset(train_mode=True)[brain_name]\n",
    "\n",
    "# number of agents\n",
    "num_agents = len(env_info.agents)\n",
    "print('Number of agents:', num_agents)\n",
    "\n",
    "# size of each action\n",
    "action_size = brain.vector_action_space_size\n",
    "print('Size of each action:', action_size)\n",
    "\n",
    "# examine the state space \n",
    "states = env_info.vector_observations\n",
    "state_size = states.shape[1]\n",
    "print('There are {} agents. Each observes a state with length: {}'.format(states.shape[0], state_size))\n",
    "print('The state for the first agent looks like:', states[0])"
   ]
  },
  {
   "cell_type": "markdown",
   "metadata": {},
   "source": [
    "### 3. Take Random Actions in the Environment\n",
    "\n",
    "In the next code cell, you will learn how to use the Python API to control the agent and receive feedback from the environment.\n",
    "\n",
    "Note that **in this coding environment, you will not be able to watch the agents while they are training**, and you should set `train_mode=True` to restart the environment."
   ]
  },
  {
   "cell_type": "code",
   "execution_count": 5,
   "metadata": {},
   "outputs": [
    {
     "name": "stdout",
     "output_type": "stream",
     "text": [
      "Total score (averaged over agents) this episode: 0.17249999614432454\n"
     ]
    }
   ],
   "source": [
    "env_info = env.reset(train_mode=True)[brain_name]      # reset the environment    \n",
    "states = env_info.vector_observations                  # get the current state (for each agent)\n",
    "scores = np.zeros(num_agents)                          # initialize the score (for each agent)\n",
    "while True:\n",
    "    actions = np.random.randn(num_agents, action_size) # select an action (for each agent)\n",
    "    actions = np.clip(actions, -1, 1)                  # all actions between -1 and 1\n",
    "    env_info = env.step(actions)[brain_name]           # send all actions to tne environment\n",
    "    next_states = env_info.vector_observations         # get next state (for each agent)\n",
    "    rewards = env_info.rewards                         # get reward (for each agent)\n",
    "    dones = env_info.local_done                        # see if episode finished\n",
    "    scores += env_info.rewards                         # update the score (for each agent)\n",
    "    states = next_states                               # roll over states to next time step\n",
    "    if np.any(dones):                                  # exit loop if episode finished\n",
    "        break\n",
    "print('Total score (averaged over agents) this episode: {}'.format(np.mean(scores)))"
   ]
  },
  {
   "cell_type": "markdown",
   "metadata": {},
   "source": [
    "### 4. It's Your Turn!\n",
    "\n",
    "Now it's your turn to train your own agent to solve the environment!  A few **important notes**:\n",
    "- When training the environment, set `train_mode=True`, so that the line for resetting the environment looks like the following:\n",
    "```python\n",
    "env_info = env.reset(train_mode=True)[brain_name]\n",
    "```\n",
    "- To structure your work, you're welcome to work directly in this Jupyter notebook, or you might like to start over with a new file!  You can see the list of files in the workspace by clicking on **_Jupyter_** in the top left corner of the notebook.\n",
    "- In this coding environment, you will not be able to watch the agents while they are training.  However, **_after training the agents_**, you can download the saved model weights to watch the agents on your own machine! "
   ]
  },
  {
   "cell_type": "code",
   "execution_count": 6,
   "metadata": {},
   "outputs": [],
   "source": [
    "from ddpg_agent import Agent\n",
    "agent = Agent(state_size=33, action_size=4, random_seed=2)\n",
    "\n",
    "# get the default brain\n",
    "brain_name = env.brain_names[0]\n",
    "brain = env.brains[brain_name]"
   ]
  },
  {
   "cell_type": "code",
   "execution_count": 7,
   "metadata": {},
   "outputs": [
    {
     "name": "stdout",
     "output_type": "stream",
     "text": [
      "Episode 1 Time: 0.30 min, Statistics --> Average: 0.76, Max: 1.82, Min: 0.18, StDev: 0.34 Rolling Average: 0.76\n",
      "Episode 2 Time: 0.61 min, Statistics --> Average: 1.18, Max: 2.72, Min: 0.32, StDev: 0.63 Rolling Average: 0.97\n",
      "Episode 3 Time: 0.92 min, Statistics --> Average: 1.07, Max: 2.53, Min: 0.29, StDev: 0.63 Rolling Average: 1.00\n",
      "Episode 4 Time: 1.24 min, Statistics --> Average: 1.29, Max: 2.31, Min: 0.00, StDev: 0.55 Rolling Average: 1.08\n",
      "Episode 5 Time: 1.55 min, Statistics --> Average: 1.46, Max: 2.72, Min: 0.09, StDev: 0.69 Rolling Average: 1.15\n",
      "Episode 6 Time: 1.87 min, Statistics --> Average: 1.54, Max: 3.97, Min: 0.41, StDev: 1.00 Rolling Average: 1.22\n",
      "Episode 7 Time: 2.19 min, Statistics --> Average: 1.74, Max: 3.50, Min: 0.55, StDev: 0.77 Rolling Average: 1.29\n",
      "Episode 8 Time: 2.51 min, Statistics --> Average: 1.52, Max: 3.12, Min: 0.44, StDev: 0.70 Rolling Average: 1.32\n",
      "Episode 9 Time: 2.84 min, Statistics --> Average: 1.48, Max: 2.31, Min: 0.59, StDev: 0.45 Rolling Average: 1.34\n",
      "Episode 10 Time: 3.17 min, Statistics --> Average: 1.51, Max: 3.39, Min: 0.06, StDev: 0.86 Rolling Average: 1.36\n",
      "Episode 11 Time: 3.51 min, Statistics --> Average: 1.60, Max: 3.46, Min: 0.29, StDev: 0.84 Rolling Average: 1.38\n",
      "Episode 12 Time: 3.84 min, Statistics --> Average: 1.58, Max: 2.53, Min: 0.67, StDev: 0.55 Rolling Average: 1.39\n",
      "Episode 13 Time: 4.18 min, Statistics --> Average: 1.60, Max: 3.01, Min: 0.31, StDev: 0.68 Rolling Average: 1.41\n",
      "Episode 14 Time: 4.52 min, Statistics --> Average: 1.69, Max: 3.32, Min: 0.23, StDev: 0.78 Rolling Average: 1.43\n",
      "Episode 15 Time: 4.87 min, Statistics --> Average: 1.92, Max: 4.25, Min: 0.22, StDev: 0.94 Rolling Average: 1.46\n",
      "Episode 16 Time: 5.22 min, Statistics --> Average: 2.28, Max: 4.48, Min: 0.33, StDev: 0.99 Rolling Average: 1.51\n",
      "Episode 17 Time: 5.57 min, Statistics --> Average: 2.31, Max: 4.06, Min: 1.12, StDev: 0.74 Rolling Average: 1.56\n",
      "Episode 18 Time: 5.93 min, Statistics --> Average: 2.25, Max: 3.32, Min: 1.03, StDev: 0.70 Rolling Average: 1.60\n",
      "Episode 19 Time: 6.29 min, Statistics --> Average: 2.95, Max: 5.89, Min: 1.62, StDev: 0.98 Rolling Average: 1.67\n",
      "Episode 20 Time: 6.65 min, Statistics --> Average: 3.10, Max: 4.56, Min: 1.75, StDev: 0.80 Rolling Average: 1.74\n",
      "Episode 21 Time: 7.02 min, Statistics --> Average: 2.55, Max: 4.87, Min: 0.83, StDev: 1.01 Rolling Average: 1.78\n",
      "Episode 22 Time: 7.39 min, Statistics --> Average: 3.38, Max: 6.54, Min: 1.34, StDev: 1.13 Rolling Average: 1.85\n",
      "Episode 23 Time: 7.76 min, Statistics --> Average: 3.02, Max: 5.04, Min: 1.33, StDev: 1.18 Rolling Average: 1.90\n",
      "Episode 24 Time: 8.14 min, Statistics --> Average: 2.96, Max: 5.37, Min: 1.43, StDev: 1.08 Rolling Average: 1.95\n",
      "Episode 25 Time: 8.52 min, Statistics --> Average: 3.25, Max: 4.79, Min: 1.64, StDev: 0.95 Rolling Average: 2.00\n",
      "Episode 26 Time: 8.90 min, Statistics --> Average: 3.28, Max: 7.02, Min: 1.41, StDev: 1.41 Rolling Average: 2.05\n",
      "Episode 27 Time: 9.29 min, Statistics --> Average: 4.48, Max: 7.03, Min: 2.76, StDev: 1.22 Rolling Average: 2.14\n",
      "Episode 28 Time: 9.68 min, Statistics --> Average: 4.29, Max: 7.22, Min: 1.82, StDev: 1.44 Rolling Average: 2.22\n",
      "Episode 29 Time: 10.07 min, Statistics --> Average: 4.07, Max: 5.28, Min: 1.97, StDev: 0.96 Rolling Average: 2.28\n",
      "Episode 30 Time: 10.47 min, Statistics --> Average: 4.42, Max: 7.22, Min: 0.96, StDev: 1.58 Rolling Average: 2.35\n",
      "Episode 31 Time: 10.88 min, Statistics --> Average: 5.84, Max: 10.08, Min: 2.31, StDev: 1.95 Rolling Average: 2.46\n",
      "Episode 32 Time: 11.28 min, Statistics --> Average: 5.97, Max: 7.65, Min: 2.83, StDev: 1.38 Rolling Average: 2.57\n",
      "Episode 33 Time: 11.69 min, Statistics --> Average: 6.25, Max: 9.07, Min: 2.20, StDev: 1.92 Rolling Average: 2.68\n",
      "Episode 34 Time: 12.10 min, Statistics --> Average: 6.19, Max: 12.61, Min: 2.59, StDev: 2.57 Rolling Average: 2.79\n",
      "Episode 35 Time: 12.52 min, Statistics --> Average: 6.24, Max: 11.39, Min: 2.10, StDev: 2.25 Rolling Average: 2.89\n",
      "Episode 36 Time: 12.94 min, Statistics --> Average: 7.14, Max: 11.09, Min: 3.76, StDev: 2.06 Rolling Average: 3.00\n",
      "Episode 37 Time: 13.36 min, Statistics --> Average: 6.73, Max: 10.90, Min: 3.14, StDev: 2.03 Rolling Average: 3.10\n",
      "Episode 38 Time: 13.78 min, Statistics --> Average: 6.71, Max: 9.49, Min: 3.99, StDev: 1.50 Rolling Average: 3.20\n",
      "Episode 39 Time: 14.21 min, Statistics --> Average: 6.28, Max: 11.24, Min: 3.03, StDev: 2.27 Rolling Average: 3.28\n",
      "Episode 40 Time: 14.64 min, Statistics --> Average: 6.30, Max: 9.95, Min: 2.20, StDev: 2.32 Rolling Average: 3.35\n",
      "Episode 41 Time: 15.08 min, Statistics --> Average: 9.08, Max: 17.29, Min: 4.21, StDev: 2.79 Rolling Average: 3.49\n",
      "Episode 42 Time: 15.51 min, Statistics --> Average: 9.60, Max: 19.50, Min: 3.11, StDev: 3.94 Rolling Average: 3.64\n",
      "Episode 43 Time: 15.95 min, Statistics --> Average: 8.99, Max: 21.65, Min: 3.09, StDev: 3.88 Rolling Average: 3.76\n",
      "Episode 44 Time: 16.40 min, Statistics --> Average: 7.77, Max: 12.33, Min: 2.79, StDev: 2.81 Rolling Average: 3.85\n",
      "Episode 45 Time: 16.84 min, Statistics --> Average: 9.05, Max: 14.08, Min: 5.80, StDev: 2.14 Rolling Average: 3.97\n",
      "Episode 46 Time: 17.30 min, Statistics --> Average: 8.62, Max: 11.65, Min: 3.79, StDev: 2.11 Rolling Average: 4.07\n",
      "Episode 47 Time: 17.75 min, Statistics --> Average: 10.69, Max: 16.42, Min: 3.78, StDev: 2.97 Rolling Average: 4.21\n",
      "Episode 48 Time: 18.21 min, Statistics --> Average: 12.27, Max: 18.67, Min: 4.97, StDev: 3.93 Rolling Average: 4.38\n",
      "Episode 49 Time: 18.67 min, Statistics --> Average: 12.03, Max: 17.68, Min: 4.76, StDev: 3.10 Rolling Average: 4.54\n",
      "Episode 50 Time: 19.13 min, Statistics --> Average: 16.19, Max: 21.54, Min: 7.80, StDev: 3.45 Rolling Average: 4.77\n",
      "Episode 51 Time: 19.61 min, Statistics --> Average: 16.30, Max: 24.24, Min: 5.19, StDev: 4.77 Rolling Average: 5.00\n",
      "Episode 52 Time: 20.08 min, Statistics --> Average: 17.07, Max: 23.12, Min: 9.43, StDev: 3.53 Rolling Average: 5.23\n",
      "Episode 53 Time: 20.55 min, Statistics --> Average: 17.08, Max: 31.42, Min: 10.20, StDev: 4.82 Rolling Average: 5.45\n",
      "Episode 54 Time: 21.02 min, Statistics --> Average: 17.79, Max: 23.36, Min: 10.55, StDev: 3.19 Rolling Average: 5.68\n",
      "Episode 55 Time: 21.48 min, Statistics --> Average: 17.92, Max: 24.75, Min: 11.92, StDev: 3.46 Rolling Average: 5.90\n",
      "Episode 56 Time: 21.95 min, Statistics --> Average: 20.15, Max: 26.91, Min: 14.29, StDev: 3.80 Rolling Average: 6.16\n",
      "Episode 57 Time: 22.42 min, Statistics --> Average: 19.60, Max: 24.53, Min: 11.37, StDev: 3.06 Rolling Average: 6.39\n",
      "Episode 58 Time: 22.88 min, Statistics --> Average: 21.44, Max: 28.01, Min: 11.20, StDev: 4.29 Rolling Average: 6.65\n",
      "Episode 59 Time: 23.35 min, Statistics --> Average: 20.86, Max: 27.53, Min: 10.83, StDev: 4.79 Rolling Average: 6.89\n",
      "Episode 60 Time: 23.82 min, Statistics --> Average: 21.81, Max: 39.44, Min: 15.15, StDev: 5.49 Rolling Average: 7.14\n",
      "Episode 61 Time: 24.29 min, Statistics --> Average: 22.94, Max: 28.04, Min: 14.20, StDev: 3.97 Rolling Average: 7.40\n",
      "Episode 62 Time: 24.75 min, Statistics --> Average: 23.38, Max: 39.17, Min: 7.63, StDev: 6.40 Rolling Average: 7.66\n",
      "Episode 63 Time: 25.22 min, Statistics --> Average: 22.96, Max: 30.98, Min: 16.51, StDev: 3.89 Rolling Average: 7.90\n",
      "Episode 64 Time: 25.68 min, Statistics --> Average: 22.51, Max: 26.86, Min: 17.66, StDev: 2.67 Rolling Average: 8.13\n",
      "Episode 65 Time: 26.15 min, Statistics --> Average: 25.08, Max: 29.12, Min: 20.17, StDev: 2.70 Rolling Average: 8.39\n",
      "Episode 66 Time: 26.62 min, Statistics --> Average: 26.90, Max: 31.94, Min: 20.37, StDev: 2.49 Rolling Average: 8.67\n",
      "Episode 67 Time: 27.09 min, Statistics --> Average: 23.97, Max: 29.55, Min: 15.32, StDev: 3.44 Rolling Average: 8.90\n",
      "Episode 68 Time: 27.56 min, Statistics --> Average: 22.45, Max: 28.21, Min: 5.31, StDev: 4.60 Rolling Average: 9.10\n",
      "Episode 69 Time: 28.02 min, Statistics --> Average: 24.10, Max: 29.68, Min: 20.25, StDev: 2.53 Rolling Average: 9.32\n",
      "Episode 70 Time: 28.49 min, Statistics --> Average: 23.93, Max: 32.14, Min: 2.63, StDev: 5.84 Rolling Average: 9.52\n",
      "Episode 71 Time: 28.95 min, Statistics --> Average: 26.27, Max: 36.85, Min: 20.85, StDev: 3.20 Rolling Average: 9.76\n",
      "Episode 72 Time: 29.42 min, Statistics --> Average: 24.10, Max: 30.79, Min: 20.42, StDev: 3.02 Rolling Average: 9.96\n"
     ]
    },
    {
     "name": "stdout",
     "output_type": "stream",
     "text": [
      "Episode 73 Time: 29.89 min, Statistics --> Average: 24.50, Max: 31.43, Min: 18.18, StDev: 3.04 Rolling Average: 10.16\n",
      "Episode 74 Time: 30.35 min, Statistics --> Average: 25.06, Max: 37.78, Min: 17.76, StDev: 4.10 Rolling Average: 10.36\n",
      "Episode 75 Time: 30.82 min, Statistics --> Average: 25.83, Max: 32.30, Min: 18.60, StDev: 3.31 Rolling Average: 10.57\n",
      "Episode 76 Time: 31.29 min, Statistics --> Average: 25.57, Max: 37.86, Min: 10.85, StDev: 6.08 Rolling Average: 10.76\n",
      "Episode 77 Time: 31.76 min, Statistics --> Average: 26.66, Max: 38.30, Min: 21.12, StDev: 3.52 Rolling Average: 10.97\n",
      "Episode 78 Time: 32.23 min, Statistics --> Average: 27.26, Max: 33.09, Min: 20.01, StDev: 3.14 Rolling Average: 11.18\n",
      "Episode 79 Time: 32.69 min, Statistics --> Average: 25.54, Max: 30.18, Min: 22.16, StDev: 2.40 Rolling Average: 11.36\n",
      "Episode 80 Time: 33.16 min, Statistics --> Average: 27.79, Max: 35.60, Min: 20.82, StDev: 3.34 Rolling Average: 11.57\n",
      "Episode 81 Time: 33.63 min, Statistics --> Average: 27.11, Max: 31.54, Min: 21.19, StDev: 2.38 Rolling Average: 11.76\n",
      "Episode 82 Time: 34.10 min, Statistics --> Average: 26.95, Max: 32.75, Min: 20.96, StDev: 3.14 Rolling Average: 11.94\n",
      "Episode 83 Time: 34.57 min, Statistics --> Average: 28.99, Max: 33.58, Min: 20.75, StDev: 3.34 Rolling Average: 12.15\n",
      "Episode 84 Time: 35.04 min, Statistics --> Average: 28.32, Max: 33.14, Min: 22.83, StDev: 3.37 Rolling Average: 12.34\n",
      "Episode 85 Time: 35.51 min, Statistics --> Average: 28.03, Max: 33.18, Min: 23.19, StDev: 2.45 Rolling Average: 12.53\n",
      "Episode 86 Time: 35.98 min, Statistics --> Average: 29.91, Max: 36.61, Min: 22.37, StDev: 3.82 Rolling Average: 12.73\n",
      "Episode 87 Time: 36.44 min, Statistics --> Average: 30.09, Max: 36.82, Min: 24.32, StDev: 3.08 Rolling Average: 12.93\n",
      "Episode 88 Time: 36.91 min, Statistics --> Average: 29.42, Max: 34.88, Min: 20.06, StDev: 4.17 Rolling Average: 13.11\n",
      "Episode 89 Time: 37.38 min, Statistics --> Average: 28.84, Max: 37.62, Min: 22.80, StDev: 3.82 Rolling Average: 13.29\n",
      "Episode 90 Time: 37.85 min, Statistics --> Average: 29.89, Max: 33.59, Min: 26.73, StDev: 1.84 Rolling Average: 13.48\n",
      "Episode 91 Time: 38.31 min, Statistics --> Average: 31.08, Max: 35.69, Min: 28.02, StDev: 2.08 Rolling Average: 13.67\n",
      "Episode 92 Time: 38.78 min, Statistics --> Average: 30.17, Max: 39.43, Min: 18.68, StDev: 4.02 Rolling Average: 13.85\n",
      "Episode 93 Time: 39.25 min, Statistics --> Average: 30.50, Max: 38.65, Min: 25.50, StDev: 3.46 Rolling Average: 14.03\n",
      "Episode 94 Time: 39.72 min, Statistics --> Average: 31.11, Max: 35.31, Min: 27.11, StDev: 2.46 Rolling Average: 14.21\n",
      "Episode 95 Time: 40.19 min, Statistics --> Average: 30.90, Max: 38.00, Min: 21.11, StDev: 3.45 Rolling Average: 14.39\n",
      "Episode 96 Time: 40.66 min, Statistics --> Average: 30.00, Max: 36.93, Min: 24.43, StDev: 3.17 Rolling Average: 14.55\n",
      "Episode 97 Time: 41.13 min, Statistics --> Average: 33.43, Max: 37.52, Min: 29.69, StDev: 2.25 Rolling Average: 14.74\n",
      "Episode 98 Time: 41.60 min, Statistics --> Average: 32.16, Max: 35.54, Min: 28.53, StDev: 1.82 Rolling Average: 14.92\n",
      "Episode 99 Time: 42.07 min, Statistics --> Average: 32.17, Max: 36.47, Min: 28.77, StDev: 2.05 Rolling Average: 15.09\n",
      "Episode 100 Time: 42.54 min, Statistics --> Average: 34.19, Max: 37.64, Min: 29.02, StDev: 2.26 Rolling Average: 15.29\n",
      "Episode 100\t Score Statistics on Rolling 100 Episodes -> Average: 15.29 Max: 34.19, Min: 0.76, StDev: 11.26\n",
      "Episode 101 Time: 43.02 min, Statistics --> Average: 33.04, Max: 39.28, Min: 25.29, StDev: 3.78 Rolling Average: 15.61\n",
      "Episode 102 Time: 43.49 min, Statistics --> Average: 34.20, Max: 38.87, Min: 27.57, StDev: 3.31 Rolling Average: 15.94\n",
      "Episode 103 Time: 43.97 min, Statistics --> Average: 33.48, Max: 37.20, Min: 29.20, StDev: 2.06 Rolling Average: 16.26\n",
      "Episode 104 Time: 44.44 min, Statistics --> Average: 33.75, Max: 37.89, Min: 27.13, StDev: 2.90 Rolling Average: 16.59\n",
      "Episode 105 Time: 44.91 min, Statistics --> Average: 32.75, Max: 39.47, Min: 28.10, StDev: 3.00 Rolling Average: 16.90\n",
      "Episode 106 Time: 45.38 min, Statistics --> Average: 33.19, Max: 36.37, Min: 30.87, StDev: 1.53 Rolling Average: 17.22\n",
      "Episode 107 Time: 45.86 min, Statistics --> Average: 33.13, Max: 35.90, Min: 24.62, StDev: 2.40 Rolling Average: 17.53\n",
      "Episode 108 Time: 46.33 min, Statistics --> Average: 34.07, Max: 37.65, Min: 25.31, StDev: 2.85 Rolling Average: 17.86\n",
      "Episode 109 Time: 46.80 min, Statistics --> Average: 35.12, Max: 38.98, Min: 31.86, StDev: 1.67 Rolling Average: 18.19\n",
      "Episode 110 Time: 47.27 min, Statistics --> Average: 34.88, Max: 38.15, Min: 29.69, StDev: 1.84 Rolling Average: 18.53\n",
      "Episode 111 Time: 47.75 min, Statistics --> Average: 35.07, Max: 38.37, Min: 31.16, StDev: 1.87 Rolling Average: 18.86\n",
      "Episode 112 Time: 48.22 min, Statistics --> Average: 35.99, Max: 39.10, Min: 32.18, StDev: 1.72 Rolling Average: 19.20\n",
      "Episode 113 Time: 48.70 min, Statistics --> Average: 35.78, Max: 38.84, Min: 32.24, StDev: 1.79 Rolling Average: 19.55\n",
      "Episode 114 Time: 49.17 min, Statistics --> Average: 34.39, Max: 37.61, Min: 30.95, StDev: 1.90 Rolling Average: 19.87\n",
      "Episode 115 Time: 49.65 min, Statistics --> Average: 34.62, Max: 38.43, Min: 30.90, StDev: 2.38 Rolling Average: 20.20\n",
      "Episode 116 Time: 50.12 min, Statistics --> Average: 34.02, Max: 37.64, Min: 28.41, StDev: 2.60 Rolling Average: 20.52\n",
      "Episode 117 Time: 50.60 min, Statistics --> Average: 35.59, Max: 38.52, Min: 31.56, StDev: 1.52 Rolling Average: 20.85\n",
      "Episode 118 Time: 51.08 min, Statistics --> Average: 35.36, Max: 38.28, Min: 31.10, StDev: 2.10 Rolling Average: 21.18\n",
      "Episode 119 Time: 51.56 min, Statistics --> Average: 34.58, Max: 37.85, Min: 30.41, StDev: 1.87 Rolling Average: 21.50\n",
      "Episode 120 Time: 52.03 min, Statistics --> Average: 34.88, Max: 39.24, Min: 32.08, StDev: 1.68 Rolling Average: 21.82\n",
      "Episode 121 Time: 52.51 min, Statistics --> Average: 35.95, Max: 38.25, Min: 33.59, StDev: 1.06 Rolling Average: 22.15\n",
      "Episode 122 Time: 52.99 min, Statistics --> Average: 35.05, Max: 39.35, Min: 30.65, StDev: 2.17 Rolling Average: 22.47\n",
      "Episode 123 Time: 53.46 min, Statistics --> Average: 34.73, Max: 39.34, Min: 29.27, StDev: 2.79 Rolling Average: 22.78\n",
      "Episode 124 Time: 53.94 min, Statistics --> Average: 35.61, Max: 39.59, Min: 29.75, StDev: 2.64 Rolling Average: 23.11\n",
      "Episode 125 Time: 54.42 min, Statistics --> Average: 34.76, Max: 39.52, Min: 31.52, StDev: 2.23 Rolling Average: 23.43\n",
      "Episode 126 Time: 54.90 min, Statistics --> Average: 35.74, Max: 38.15, Min: 30.42, StDev: 1.99 Rolling Average: 23.75\n",
      "Episode 127 Time: 55.38 min, Statistics --> Average: 34.26, Max: 38.21, Min: 29.82, StDev: 1.74 Rolling Average: 24.05\n",
      "Episode 128 Time: 55.86 min, Statistics --> Average: 36.48, Max: 38.61, Min: 31.97, StDev: 1.51 Rolling Average: 24.37\n",
      "Episode 129 Time: 56.34 min, Statistics --> Average: 35.68, Max: 38.53, Min: 31.17, StDev: 1.98 Rolling Average: 24.69\n",
      "Episode 130 Time: 56.82 min, Statistics --> Average: 36.04, Max: 38.65, Min: 33.38, StDev: 1.60 Rolling Average: 25.00\n",
      "Episode 131 Time: 57.30 min, Statistics --> Average: 35.27, Max: 37.97, Min: 31.41, StDev: 1.63 Rolling Average: 25.30\n",
      "Episode 132 Time: 57.78 min, Statistics --> Average: 35.72, Max: 38.93, Min: 32.56, StDev: 1.82 Rolling Average: 25.59\n",
      "Episode 133 Time: 58.26 min, Statistics --> Average: 35.08, Max: 37.82, Min: 26.42, StDev: 2.72 Rolling Average: 25.88\n",
      "Episode 134 Time: 58.74 min, Statistics --> Average: 35.87, Max: 38.06, Min: 32.05, StDev: 1.53 Rolling Average: 26.18\n",
      "Episode 135 Time: 59.22 min, Statistics --> Average: 35.63, Max: 39.53, Min: 27.86, StDev: 2.91 Rolling Average: 26.47\n",
      "Episode 136 Time: 59.70 min, Statistics --> Average: 35.75, Max: 39.05, Min: 33.05, StDev: 1.77 Rolling Average: 26.76\n",
      "Episode 137 Time: 60.18 min, Statistics --> Average: 35.36, Max: 37.83, Min: 32.80, StDev: 1.37 Rolling Average: 27.05\n",
      "Episode 138 Time: 60.66 min, Statistics --> Average: 35.13, Max: 38.89, Min: 27.69, StDev: 3.16 Rolling Average: 27.33\n",
      "Episode 139 Time: 61.13 min, Statistics --> Average: 37.04, Max: 39.03, Min: 28.94, StDev: 2.31 Rolling Average: 27.64\n",
      "Episode 140 Time: 61.61 min, Statistics --> Average: 35.90, Max: 38.15, Min: 30.31, StDev: 2.19 Rolling Average: 27.93\n",
      "Episode 141 Time: 62.09 min, Statistics --> Average: 34.87, Max: 37.92, Min: 29.52, StDev: 2.37 Rolling Average: 28.19\n"
     ]
    },
    {
     "name": "stdout",
     "output_type": "stream",
     "text": [
      "Episode 142 Time: 62.57 min, Statistics --> Average: 35.76, Max: 38.77, Min: 33.09, StDev: 1.43 Rolling Average: 28.45\n",
      "Episode 143 Time: 63.05 min, Statistics --> Average: 36.44, Max: 38.84, Min: 30.49, StDev: 1.67 Rolling Average: 28.73\n",
      "Episode 144 Time: 63.53 min, Statistics --> Average: 37.31, Max: 38.77, Min: 34.61, StDev: 0.94 Rolling Average: 29.02\n",
      "Episode 145 Time: 64.01 min, Statistics --> Average: 34.95, Max: 39.21, Min: 27.85, StDev: 2.46 Rolling Average: 29.28\n",
      "Episode 146 Time: 64.49 min, Statistics --> Average: 35.62, Max: 38.23, Min: 31.98, StDev: 1.27 Rolling Average: 29.55\n",
      "Episode 147 Time: 64.97 min, Statistics --> Average: 33.86, Max: 37.80, Min: 28.15, StDev: 2.16 Rolling Average: 29.78\n",
      "Episode 148 Time: 65.45 min, Statistics --> Average: 34.09, Max: 38.42, Min: 27.01, StDev: 2.65 Rolling Average: 30.00\n"
     ]
    }
   ],
   "source": [
    "from itertools import count\n",
    "import time\n",
    "def ddpg(n_episodes=5000,max_n_timesteps = 5000,rolling_window_size=100,target_average=30):\n",
    "    scores_deque = deque(maxlen=rolling_window_size)\n",
    "    average_score_history = []\n",
    "    rolling_average_history = []\n",
    "    max_score_history = []\n",
    "    min_score_history = []\n",
    "    start_time = time.time()\n",
    "    for i_episode in range(1, n_episodes+1):\n",
    "        env_info = env.reset(train_mode=True)[brain_name]      # reset the environment    \n",
    "        states = env_info.vector_observations                  # get the current state (for each agent)\n",
    "        scores = np.zeros(num_agents)                          # initialize the score (for each agent)\n",
    "        agent.reset()\n",
    "        for t_step in range(max_n_timesteps):\n",
    "            actions = agent.act(states)\n",
    "            env_info = env.step(actions)[brain_name]           # send all actions to tne environment\n",
    "            next_states = env_info.vector_observations         # get next state (for each agent)\n",
    "            rewards = env_info.rewards                         # get reward (for each agent)\n",
    "            dones = env_info.local_done                        # see if episode finished\n",
    "            agent.step(states, actions, rewards, next_states, dones,t_step)\n",
    "            states = next_states                               # roll over states to next time step\n",
    "            scores += rewards                                  # update the score (for each agent)            \n",
    "            if np.any(dones):                                  # exit loop if episode finished\n",
    "                break\n",
    "        \n",
    "        score = np.mean(scores)\n",
    "        scores_deque.append(score)\n",
    "        last_n_score_average = np.mean(scores_deque)\n",
    "        rolling_average_history.append(last_n_score_average)\n",
    "        average_score_history.append(score)\n",
    "        max_score_history.append(np.max(scores))\n",
    "        min_score_history.append(np.min(scores))\n",
    "        torch.save(agent.actor_local.state_dict(), 'checkpoint_actor.pth')\n",
    "        torch.save(agent.critic_local.state_dict(), 'checkpoint_critic.pth')\n",
    "        print('\\rEpisode {} Time: {:.2f} min, Statistics --> Average: {:.2f}, Max: {:.2f}, Min: {:.2f}, StDev: {:.2f} Rolling Average: {:.2f}'\\\n",
    "              .format(i_episode,(time.time()-start_time)/60, score, np.max(scores), np.min(scores),np.std(scores), last_n_score_average))        \n",
    "        if i_episode % rolling_window_size == 0:\n",
    "            print('\\rEpisode {}\\t Score Statistics on Rolling {} Episodes -> Average: {:.2f} Max: {:.2f}, Min: {:.2f}, StDev: {:.2f}'\\\n",
    "                  .format(i_episode,rolling_window_size, np.mean(scores_deque),np.max(scores_deque), np.min(scores_deque),np.std(scores_deque)))   \n",
    "        if last_n_score_average>target_average:\n",
    "            break\n",
    "            \n",
    "    return average_score_history,rolling_average_history, max_score_history, min_score_history\n",
    "\n",
    "average_score_history,rolling_average_history, max_score_history, min_score_history = ddpg()"
   ]
  },
  {
   "cell_type": "code",
   "execution_count": 8,
   "metadata": {},
   "outputs": [
    {
     "data": {
      "image/png": "[encoded data removed]",
      "text/plain": [
       "<Figure size 432x288 with 1 Axes>"
      ]
     },
     "metadata": {
      "needs_background": "light"
     },
     "output_type": "display_data"
    }
   ],
   "source": [
    "fig = plt.figure()\n",
    "ax = fig.add_subplot(111)\n",
    "plt.plot(np.arange(1, len(average_score_history)+1), average_score_history, label=\"Episode Average\")\n",
    "plt.plot(np.arange(1, len(rolling_average_history)+1), rolling_average_history, label=\"Rolling 100 Episode Average\")\n",
    "plt.plot(np.arange(1, len(max_score_history)+1), max_score_history, label=\"Episode Max\")\n",
    "plt.plot(np.arange(1, len(min_score_history)+1), min_score_history, label=\"Episode Min\")\n",
    "plt.legend(loc='upper left')\n",
    "plt.ylabel('Score')\n",
    "plt.xlabel('Episode #')\n",
    "plt.title('Training Overview')\n",
    "plt.show()"
   ]
  },
  {
   "cell_type": "markdown",
   "metadata": {},
   "source": [
    "When finished, you can close the environment."
   ]
  },
  {
   "cell_type": "code",
   "execution_count": 9,
   "metadata": {},
   "outputs": [],
   "source": [
    "env.close()"
   ]
  },
  {
   "cell_type": "code",
   "execution_count": null,
   "metadata": {},
   "outputs": [],
   "source": []
  }
 ],
 "metadata": {
  "kernelspec": {
   "display_name": "Python 3.6",
   "language": "python",
   "name": "python_36"
  },
  "language_info": {
   "codemirror_mode": {
    "name": "ipython",
    "version": 3
   },
   "file_extension": ".py",
   "mimetype": "text/x-python",
   "name": "python",
   "nbconvert_exporter": "python",
   "pygments_lexer": "ipython3",
   "version": "3.6.3"
  }
 },
 "nbformat": 4,
 "nbformat_minor": 2
}
